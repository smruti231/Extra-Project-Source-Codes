{
 "cells": [
  {
   "cell_type": "code",
   "execution_count": 1,
   "id": "1b84f28e",
   "metadata": {},
   "outputs": [
    {
     "name": "stdout",
     "output_type": "stream",
     "text": [
      "Number guessing game\n",
      "Guess a number (between 1 and 9):\n",
      "2\n",
      "Your guess was too low: Guess a number higher than 2\n",
      "3\n",
      "Your guess was too low: Guess a number higher than 3\n",
      "4\n",
      "Your guess was too low: Guess a number higher than 4\n",
      "5\n",
      "Your guess was too low: Guess a number higher than 5\n",
      "6\n",
      "Your guess was too low: Guess a number higher than 6\n",
      "8\n",
      "Your guess was too high: Guess a number lower than 8\n",
      "7\n",
      "CONGRATULATIONS! YOU HAVE GUESSED THE             NUMBER 7 IN 6 ATTEMPTS!\n"
     ]
    }
   ],
   "source": [
    "import random\n",
    "\n",
    "print(\"Number guessing game\")\n",
    "\n",
    "# randint function to generate the\n",
    "# random number b/w 1 to 9\n",
    "number = random.randint(1, 9)\n",
    "\n",
    "# number of chances to be given\n",
    "# to the user to guess the number\n",
    "# or it is the inputs given by user\n",
    "# into input box here number of\n",
    "# chances are 5\n",
    "chances = 0\n",
    "\n",
    "print(\"Guess a number (between 1 and 9):\")\n",
    "\n",
    "# While loop to count the number\n",
    "# of chances\n",
    "while True:\n",
    "\n",
    "    # Enter a number between 1 to 9\n",
    "    guess = int(input())\n",
    "\n",
    "    # Compare the user entered number\n",
    "    # with the number to be guessed\n",
    "    if guess == number:\n",
    "\n",
    "        # if number entered by user\n",
    "        # is same as the generated\n",
    "        # number by randint function then\n",
    "        # break from loop using loop\n",
    "        # control statement \"break\"\n",
    "        print(\n",
    "            f'CONGRATULATIONS! YOU HAVE GUESSED THE \\\n",
    "            NUMBER {number} IN {chances} ATTEMPTS!')\n",
    "        # Printing final statement using the f-strings method;\n",
    "        break\n",
    "\n",
    "    # Check if the user entered\n",
    "    # number is smaller than\n",
    "    # the generated number\n",
    "    elif guess < number:\n",
    "        print(\"Your guess was too low: Guess a number higher than\", guess)\n",
    "\n",
    "    # The user entered number is\n",
    "    # greater than the generated\n",
    "    # number\n",
    "    else:\n",
    "        print(\"Your guess was too high: Guess a number lower than\", guess)\n",
    "\n",
    "    # Increase the value of chance by 1\n",
    "    chances += 1\n",
    "    "
   ]
  },
  {
   "cell_type": "code",
   "execution_count": null,
   "id": "5b0d4964",
   "metadata": {},
   "outputs": [],
   "source": []
  }
 ],
 "metadata": {
  "kernelspec": {
   "display_name": "Python 3 (ipykernel)",
   "language": "python",
   "name": "python3"
  },
  "language_info": {
   "codemirror_mode": {
    "name": "ipython",
    "version": 3
   },
   "file_extension": ".py",
   "mimetype": "text/x-python",
   "name": "python",
   "nbconvert_exporter": "python",
   "pygments_lexer": "ipython3",
   "version": "3.9.12"
  }
 },
 "nbformat": 4,
 "nbformat_minor": 5
}
